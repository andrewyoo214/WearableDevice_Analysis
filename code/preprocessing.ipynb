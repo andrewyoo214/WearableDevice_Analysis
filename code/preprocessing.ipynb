{
 "cells": [
  {
   "cell_type": "markdown",
   "id": "bebf1c2e-49c4-4ce7-8118-40b4c8060ac3",
   "metadata": {},
   "source": [
    "# Wearable Device data preprocessing"
   ]
  },
  {
   "cell_type": "markdown",
   "id": "b62f2830-cfad-4808-bd38-1449db77ce25",
   "metadata": {},
   "source": [
    "## Explanations on Device and Data Variables"
   ]
  },
  {
   "cell_type": "markdown",
   "id": "7f5ece16-789c-46d7-b55e-0346f5f706bc",
   "metadata": {
    "jupyter": {
     "source_hidden": true
    },
    "tags": []
   },
   "source": [
    "* Wearable Device = Samsung Galaxy Watch 4 Classic \n",
    "* ~.device_profile = Device information and ID.\n",
    "* ~.ecg = Electrocardiogram value. It only contains mean heart rate value.\n",
    "* ~.floors_climbed = Number of floors you've climbed. (Inaccurate)\n",
    "* ~.food_info = Information of the food you take. (Inaccurate)\n",
    "* ~.food_intake = Food intake information including variables like calories. (Inaccurate)\n",
    "* ~.height =  User's height. User should put the information in samsung health application.\n",
    "* ~.nutrition = Food intake nutrition information. (Inaccurate)\n",
    "* ~.sleep_stage = Sleep stages including REM sleep. Automatically calculates when user sleep with their watch on. \n",
    "* ~.user_profile = User profiles like birth, nationality, etc. User should put the information.\n",
    "* ~.water_intake = Glass of water intake. User should put the information everytime.\n",
    "* ~.weight = User's weight. User should put the information.\n",
    "* ~.activity.day_summary = Summary of user's activity information. Contains step count, active time, distance, run time, and walk time.\n",
    "* ~.activity.goal = Not sure.\n",
    "* ~.activity.level = Not sure.\n",
    "* ~.alered_heart_rate = Not sure. Maybe alerted history, when user's heart rate is unusually high or low.\n",
    "* ~.best_records = Not sure.\n",
    "* ~.breathing = Breathing training history.\n",
    "* ~.calories_burned.details = Not sure.\n",
    "* ~.exercise = User's exercise information. Contains exercise distance, calories, etc.\n",
    "* ~.exercise.weather = Not sure.\n",
    "* ~.food_frequent = Not sure.\n",
    "* ~.goal_history = Not sure.\n",
    "* ~.insight.milestones = Not sure.\n",
    "* ~.permission = Not sure.\n",
    "* ~.preferences = Not sure.\n",
    "* ~.program.sleep_coaching_mission = Counting sleep coaching program. \n",
    "* ~.program.sleep_coaching.session = Not sure.\n",
    "* ~.report = Not sure.\n",
    "* ~.rewards = Not sure.\n",
    "* ~.sleep = Data collected during sleep. \n",
    "* ~.sleep_combined = Data collected during sleep. (Inaccurate)\n",
    "* ~.sleep_goal = Not sure.\n",
    "* ~.sleep_snoring = Not sure. Maybe information about snoring during sleep. Stored in samsung health application.\n",
    "* ~.social.public_challenge.extra = Not sure.\n",
    "* ~.social.service_status = Not sure.\n",
    "* ~.stand_day_summary = Not sure.\n",
    "* ~.step_dailty_trend = Not sure.\n",
    "* ~.stress = Daily stress tracking value. \n",
    "* ~.stress.histogram = Not sure.\n",
    "* ~.tracker.heart_rate = Daily heart rate tracking value. Contains the stress score between 1 and 100.\n",
    "* ~.tracker.oxygen_saturation = Oxygen saturation value. Measured only when user activates.\n",
    "* ~.tracker.pedometer_day_summary = Daily step counts, based on pedometer. But data must be organized by date.\n",
    "* ~.tracker.pedometer_recommendation = Not sure.\n",
    "* ~.tracker.pedometer_step_count = Daily step counts, based on pedometer. But data must be organized by date. \n",
    "* /files/ecg = pdf file format of ecg measures. Shows the 30seconds ecg results."
   ]
  },
  {
   "cell_type": "markdown",
   "id": "96f6f4b6-7c14-4960-9ea0-03fb17594152",
   "metadata": {},
   "source": [
    "## Data file list that we need for Analysis"
   ]
  },
  {
   "cell_type": "markdown",
   "id": "512454b4-4fcd-42c2-b086-0d7a69ec9d01",
   "metadata": {},
   "source": [
    "* ecg (both numerical csv file and pdf file) -- \n",
    "* activity_day_summary \n",
    "* exercise (maybe. for tracking what kind of exercise user did and for how long)\n",
    "* sleep \n",
    "* stress\n",
    "* stress.histogram (maybe. check json file)\n",
    "* heart_rate\n",
    "* oxygen saturation (maybe. have to search for more references)\n",
    "* pedometer_day_summary (have to check the columns)\n",
    "* tracker_pedometer_step_count"
   ]
  },
  {
   "cell_type": "markdown",
   "id": "97a97f05-7e15-4d4f-9438-2be59f82ee96",
   "metadata": {},
   "source": [
    "## Extracting data that we need"
   ]
  },
  {
   "cell_type": "code",
   "execution_count": null,
   "id": "68e8a739-185a-45ef-bc8b-ddcf6294d493",
   "metadata": {},
   "outputs": [],
   "source": [
    "import json\n",
    "import os\n",
    "import os.path\n",
    "import sqlite3\n",
    "import numpy as np\n",
    "import pandas as pd"
   ]
  },
  {
   "cell_type": "code",
   "execution_count": null,
   "id": "c3931abe-a156-49f3-b5db-c87461ec4a72",
   "metadata": {},
   "outputs": [],
   "source": [
    "from functools import reduce\n",
    "from glob import glob"
   ]
  },
  {
   "cell_type": "code",
   "execution_count": null,
   "id": "2c4a2a1e-6876-4977-8add-8d88b8ba0ed2",
   "metadata": {},
   "outputs": [],
   "source": [
    "# First setting the basic paths for data files\n",
    "global csv_paths\n",
    "wearable_path = 'E:/RESEARCH/wearable/' #adjust wearable data path"
   ]
  },
  {
   "cell_type": "code",
   "execution_count": null,
   "id": "25f76d62-cd7d-42c8-8172-b4c247f9b754",
   "metadata": {},
   "outputs": [],
   "source": [
    "# Exercise type code - 'exercise_type' column\n",
    "exercise_type = {\n",
    "    1001: 'walking',\n",
    "    1002: 'running',\n",
    "    14001: 'Swimming',\n",
    "    11007: 'Cycling',\n",
    "    0: 'other'\n",
    "}"
   ]
  },
  {
   "cell_type": "code",
   "execution_count": null,
   "id": "5e0fa8df-e304-487d-80a1-27a751e0fa4f",
   "metadata": {},
   "outputs": [],
   "source": [
    "# Defini tion for converting the data collected time.\n",
    "def conv_date(x, col_name=''):\n",
    "    try:\n",
    "        if any('day_time' in col for col in x.columns):\n",
    "            col_name = 'day_time'\n",
    "            x['day_time'] = pd.to_datetime(\n",
    "                x[[col for col in x.columns if col_name in col][0]], unit='ms')\n",
    "        if any('start_time' in col for col in x.columns):\n",
    "            col_name = 'start_time'\n",
    "            x['day_time'] = pd.to_datetime(\n",
    "                x[[col for col in x.columns if col_name in col][0]])\n",
    "        x['day_time'] = pd.to_datetime(x['day_time'])\n",
    "        \n",
    "    except RuntimeError as e:\n",
    "        print(e)\n",
    "        print(\"Can't find one of these columns\")\n",
    "        print(\"Column names\", x.columns)"
   ]
  },
  {
   "cell_type": "code",
   "execution_count": null,
   "id": "4350940a-ba40-4087-a5d4-ef65e5978029",
   "metadata": {},
   "outputs": [],
   "source": [
    "# Galaxy watch data contains json files. Definition for calling json files.\n",
    "def get_json_file(s):\n",
    "    join = os.path.join('**', s + '*.json')\n",
    "    json_paths = glob(join, recursive=True)\n",
    "    json_file = open(json_paths[0])\n",
    "    return json.load(json_file)"
   ]
  },
  {
   "cell_type": "code",
   "execution_count": null,
   "id": "837f20ea-8adc-4477-8081-e46266346c2e",
   "metadata": {},
   "outputs": [],
   "source": [
    "# mergeing data frame csv files that we need for the analysis\n",
    "def df_meged():\n",
    "    global csv_paths\n",
    "    \n",
    "    selected_csv = [\n",
    "        'com.samsung.shealth.activity.day_summary'\n",
    "    ]"
   ]
  },
  {
   "cell_type": "code",
   "execution_count": null,
   "id": "818df7ec-0262-48cc-a804-30dd4fa4aa52",
   "metadata": {},
   "outputs": [],
   "source": [
    "# extracting heart rate data (most important)\n",
    "def heart_rate_data():\n",
    "    \"\"\"\n",
    "    heart_rate_data reads json format heart rate data from wearable device,\n",
    "    then return the extracted results as hr_df.\n",
    "    \n",
    "    dataframe contains heart rate, maximum heart rate, minimum heart rate, and measured time variables.\n",
    "    \"\"\"\n",
    "    hr_path = os.path.join(wearable_path, '**', 'com.samsung.shealth.tracker.heart_rate','**','*.json')\n",
    "    hr_files_path = glob(hr_path, recursive=True)\n",
    "    hr_df = pd.DataFrame(columns=['heart_rate', 'heart_rate_max', 'heart_rate_min', 'start_time', 'end_time'])\n",
    "    hr_df = hr_df.fillna(0) #filling NA/NAN values\n",
    "    \n",
    "    for f in hr_file_paths:\n",
    "        try:\n",
    "            with open(f) as file:\n",
    "                json_hr = json.load(file)\n",
    "                part_df = pd.DataFrame(json_hr)\n",
    "                hr_df = pd.concat([hr_df, part_df])\n",
    "\n",
    "        except ValueError as e:\n",
    "            print(e)\n",
    "    \n",
    "    hr_df['day_time'] = pd.to_datetime(hr_df['start_time'], unit='ms')\n",
    "    return hr_df"
   ]
  },
  {
   "cell_type": "code",
   "execution_count": null,
   "id": "4cfb8e3a-41f6-4626-aa67-6b773c8dc9e7",
   "metadata": {},
   "outputs": [],
   "source": [
    "# Extracting heart rate data by hourly time period\n",
    "def hourly_heart_rate():\n",
    "    hr_df = heart_rate_data()\n",
    "    times = pd.DatetimeIndex(hr_df.day_time)\n",
    "    hr_df = hr_df.groupby([times.hour, times.date]).agg('mean')\n",
    "    hr_df.reset_index(inplace=True)\n",
    "    hr_df['day_time'] = pd.to_datetime(\n",
    "        pd.to_datetime(hr_df['level_1']).dt.strftime('%Y-%m-%d') + ' ' + hr_df['day_time'].astype(str) + ':00')\n",
    "\n",
    "    return hr_df"
   ]
  },
  {
   "cell_type": "code",
   "execution_count": null,
   "id": "ff44ff01-e28e-4c17-b270-784a16ed2d03",
   "metadata": {},
   "outputs": [],
   "source": []
  },
  {
   "cell_type": "code",
   "execution_count": null,
   "id": "147954db-2252-4993-b7bd-804f8007bb79",
   "metadata": {},
   "outputs": [],
   "source": []
  },
  {
   "cell_type": "code",
   "execution_count": null,
   "id": "4a20e40f-1d16-4390-9eb2-f7e4686b4bd0",
   "metadata": {},
   "outputs": [],
   "source": []
  },
  {
   "cell_type": "markdown",
   "id": "324da528-71dd-42ae-ad68-5f4006b6c9ab",
   "metadata": {},
   "source": [
    "## Extracting Final Data"
   ]
  },
  {
   "cell_type": "code",
   "execution_count": null,
   "id": "0ec445a5-2b0e-4a21-887f-7f560d25e4c8",
   "metadata": {},
   "outputs": [],
   "source": [
    "def data_extraction():\n",
    "    global csv_paths\n",
    "    base_dir = os.path.join(wearable_path)\n",
    "    \n",
    "    dump_dirs = glob(os.path.join(base_dir, '*'))\n",
    "    dump_dir = os.path.basename(dump_dirs[0])\n",
    "    print(len(dump_dirs), 'dumps found, taking first:', dump_dir)\n",
    "\n",
    "    csv_paths = glob(os.path.join(base_dir, dump_dir, '*.csv'))\n",
    "    print(len(csv_paths), 'csvs found')\n",
    "    \n",
    "    hr_data = hr_raw().sort_values(by='day_time', ascending=True)\n",
    "    exercise_data = get_exercise_data()\n",
    "    \n",
    "    df_data_list = [hr_data]\n",
    "    df_name_list = ['hr_data']\n",
    "\n",
    "    for i, d in enumerate(df_data_list):\n",
    "        try:\n",
    "            d.to_csv('./' + str(df_name_list[i]) + '.csv')\n",
    "        except Exception as e:\n",
    "            print(e)\n",
    "            \n",
    "if __name__ == \"__main__\":\n",
    "    data_extraction()"
   ]
  },
  {
   "cell_type": "code",
   "execution_count": null,
   "id": "a7695bcb-6b72-42c1-a38e-9e28b668c05d",
   "metadata": {},
   "outputs": [],
   "source": []
  },
  {
   "cell_type": "code",
   "execution_count": null,
   "id": "825107d9-50e2-4b10-9b58-0ea59e248424",
   "metadata": {},
   "outputs": [],
   "source": []
  },
  {
   "cell_type": "code",
   "execution_count": null,
   "id": "ad2aaf24-f64f-4328-9591-4217db418516",
   "metadata": {},
   "outputs": [],
   "source": []
  },
  {
   "cell_type": "code",
   "execution_count": null,
   "id": "2ebf5649-5f1e-4189-a183-242bca3d7875",
   "metadata": {},
   "outputs": [],
   "source": []
  },
  {
   "cell_type": "markdown",
   "id": "c8d9504b-6bee-4ed1-912d-6ab02784e615",
   "metadata": {},
   "source": [
    "## Individual file preprocessing"
   ]
  },
  {
   "cell_type": "markdown",
   "id": "5a9e2655-f705-4e91-ac8c-ba2c3e7bf3a0",
   "metadata": {},
   "source": [
    "### 1. Demographic + Labeling data Coding File"
   ]
  },
  {
   "cell_type": "markdown",
   "id": "0fa75385-53d6-4c80-9aff-fb52ec4c3415",
   "metadata": {},
   "source": [
    "* "
   ]
  },
  {
   "cell_type": "code",
   "execution_count": 1,
   "id": "ae59f685-5330-4e6f-8fb9-3bfdfaf70cfd",
   "metadata": {},
   "outputs": [],
   "source": [
    "import os\n",
    "import pandas as pd\n",
    "import numpy as np\n",
    "import matplotlib.pyplot as plt\n",
    "import seaborn as sns"
   ]
  },
  {
   "cell_type": "code",
   "execution_count": 2,
   "id": "ea325a4a-fd61-4742-8d0a-da4197da1a85",
   "metadata": {},
   "outputs": [
    {
     "data": {
      "text/html": [
       "<div>\n",
       "<style scoped>\n",
       "    .dataframe tbody tr th:only-of-type {\n",
       "        vertical-align: middle;\n",
       "    }\n",
       "\n",
       "    .dataframe tbody tr th {\n",
       "        vertical-align: top;\n",
       "    }\n",
       "\n",
       "    .dataframe thead th {\n",
       "        text-align: right;\n",
       "    }\n",
       "</style>\n",
       "<table border=\"1\" class=\"dataframe\">\n",
       "  <thead>\n",
       "    <tr style=\"text-align: right;\">\n",
       "      <th></th>\n",
       "      <th>sub</th>\n",
       "      <th>name</th>\n",
       "      <th>class</th>\n",
       "      <th>exam_date</th>\n",
       "      <th>age</th>\n",
       "      <th>sex</th>\n",
       "      <th>residence</th>\n",
       "      <th>edu</th>\n",
       "      <th>marriage</th>\n",
       "      <th>job</th>\n",
       "      <th>...</th>\n",
       "      <th>PSQI_K_v2</th>\n",
       "      <th>PSQI_K_v3</th>\n",
       "      <th>STAI_X2_v1</th>\n",
       "      <th>PHQ_9_v1</th>\n",
       "      <th>PHQ_9_v2</th>\n",
       "      <th>PHQ_9_v3</th>\n",
       "      <th>GAD_7_v1</th>\n",
       "      <th>STAI_X1_v1</th>\n",
       "      <th>RAS_v1</th>\n",
       "      <th>RSE_v1</th>\n",
       "    </tr>\n",
       "  </thead>\n",
       "  <tbody>\n",
       "    <tr>\n",
       "      <th>0</th>\n",
       "      <td>1.0</td>\n",
       "      <td>BKJ</td>\n",
       "      <td>3.0</td>\n",
       "      <td>2021-05-10</td>\n",
       "      <td>47.0</td>\n",
       "      <td>2.0</td>\n",
       "      <td>1.0</td>\n",
       "      <td>16.0</td>\n",
       "      <td>2.0</td>\n",
       "      <td>3.0</td>\n",
       "      <td>...</td>\n",
       "      <td>2.0</td>\n",
       "      <td>3.0</td>\n",
       "      <td>23.0</td>\n",
       "      <td>0.0</td>\n",
       "      <td>0.0</td>\n",
       "      <td>0.0</td>\n",
       "      <td>0.0</td>\n",
       "      <td>20.0</td>\n",
       "      <td>60.0</td>\n",
       "      <td>40.0</td>\n",
       "    </tr>\n",
       "    <tr>\n",
       "      <th>1</th>\n",
       "      <td>2.0</td>\n",
       "      <td>KHM</td>\n",
       "      <td>3.0</td>\n",
       "      <td>2021-05-12</td>\n",
       "      <td>34.0</td>\n",
       "      <td>2.0</td>\n",
       "      <td>1.0</td>\n",
       "      <td>18.0</td>\n",
       "      <td>2.0</td>\n",
       "      <td>2.0</td>\n",
       "      <td>...</td>\n",
       "      <td>5.0</td>\n",
       "      <td>1.0</td>\n",
       "      <td>30.0</td>\n",
       "      <td>0.0</td>\n",
       "      <td>0.0</td>\n",
       "      <td>0.0</td>\n",
       "      <td>0.0</td>\n",
       "      <td>31.0</td>\n",
       "      <td>60.0</td>\n",
       "      <td>37.0</td>\n",
       "    </tr>\n",
       "    <tr>\n",
       "      <th>2</th>\n",
       "      <td>3.0</td>\n",
       "      <td>YEJ</td>\n",
       "      <td>3.0</td>\n",
       "      <td>2021-05-18</td>\n",
       "      <td>34.0</td>\n",
       "      <td>2.0</td>\n",
       "      <td>1.0</td>\n",
       "      <td>16.0</td>\n",
       "      <td>2.0</td>\n",
       "      <td>2.0</td>\n",
       "      <td>...</td>\n",
       "      <td>4.0</td>\n",
       "      <td>5.0</td>\n",
       "      <td>32.0</td>\n",
       "      <td>0.0</td>\n",
       "      <td>0.0</td>\n",
       "      <td>0.0</td>\n",
       "      <td>0.0</td>\n",
       "      <td>31.0</td>\n",
       "      <td>46.0</td>\n",
       "      <td>33.0</td>\n",
       "    </tr>\n",
       "    <tr>\n",
       "      <th>3</th>\n",
       "      <td>4.0</td>\n",
       "      <td>SYJ</td>\n",
       "      <td>3.0</td>\n",
       "      <td>2021-05-24</td>\n",
       "      <td>29.0</td>\n",
       "      <td>2.0</td>\n",
       "      <td>1.0</td>\n",
       "      <td>17.0</td>\n",
       "      <td>2.0</td>\n",
       "      <td>3.0</td>\n",
       "      <td>...</td>\n",
       "      <td>4.0</td>\n",
       "      <td>4.0</td>\n",
       "      <td>32.0</td>\n",
       "      <td>0.0</td>\n",
       "      <td>2.0</td>\n",
       "      <td>8.0</td>\n",
       "      <td>0.0</td>\n",
       "      <td>32.0</td>\n",
       "      <td>54.0</td>\n",
       "      <td>38.0</td>\n",
       "    </tr>\n",
       "    <tr>\n",
       "      <th>4</th>\n",
       "      <td>5.0</td>\n",
       "      <td>CDH</td>\n",
       "      <td>3.0</td>\n",
       "      <td>2021-05-25</td>\n",
       "      <td>35.0</td>\n",
       "      <td>1.0</td>\n",
       "      <td>1.0</td>\n",
       "      <td>16.0</td>\n",
       "      <td>2.0</td>\n",
       "      <td>2.0</td>\n",
       "      <td>...</td>\n",
       "      <td>1.0</td>\n",
       "      <td>1.0</td>\n",
       "      <td>25.0</td>\n",
       "      <td>0.0</td>\n",
       "      <td>0.0</td>\n",
       "      <td>0.0</td>\n",
       "      <td>0.0</td>\n",
       "      <td>30.0</td>\n",
       "      <td>48.0</td>\n",
       "      <td>37.0</td>\n",
       "    </tr>\n",
       "  </tbody>\n",
       "</table>\n",
       "<p>5 rows × 74 columns</p>\n",
       "</div>"
      ],
      "text/plain": [
       "   sub name  class   exam_date   age  sex  residence   edu  marriage  job  \\\n",
       "0  1.0  BKJ    3.0  2021-05-10  47.0  2.0        1.0  16.0       2.0  3.0   \n",
       "1  2.0  KHM    3.0  2021-05-12  34.0  2.0        1.0  18.0       2.0  2.0   \n",
       "2  3.0  YEJ    3.0  2021-05-18  34.0  2.0        1.0  16.0       2.0  2.0   \n",
       "3  4.0  SYJ    3.0  2021-05-24  29.0  2.0        1.0  17.0       2.0  3.0   \n",
       "4  5.0  CDH    3.0  2021-05-25  35.0  1.0        1.0  16.0       2.0  2.0   \n",
       "\n",
       "   ...  PSQI_K_v2  PSQI_K_v3  STAI_X2_v1  PHQ_9_v1  PHQ_9_v2  PHQ_9_v3  \\\n",
       "0  ...        2.0        3.0        23.0       0.0       0.0       0.0   \n",
       "1  ...        5.0        1.0        30.0       0.0       0.0       0.0   \n",
       "2  ...        4.0        5.0        32.0       0.0       0.0       0.0   \n",
       "3  ...        4.0        4.0        32.0       0.0       2.0       8.0   \n",
       "4  ...        1.0        1.0        25.0       0.0       0.0       0.0   \n",
       "\n",
       "   GAD_7_v1  STAI_X1_v1  RAS_v1  RSE_v1  \n",
       "0       0.0        20.0    60.0    40.0  \n",
       "1       0.0        31.0    60.0    37.0  \n",
       "2       0.0        31.0    46.0    33.0  \n",
       "3       0.0        32.0    54.0    38.0  \n",
       "4       0.0        30.0    48.0    37.0  \n",
       "\n",
       "[5 rows x 74 columns]"
      ]
     },
     "execution_count": 2,
     "metadata": {},
     "output_type": "execute_result"
    }
   ],
   "source": [
    "coded = pd.read_csv('E:/RESEARCH/Datasets/wearable/AI_coded_merged.csv', sep=',')\n",
    "coded.head()"
   ]
  },
  {
   "cell_type": "code",
   "execution_count": 3,
   "id": "110a96f6-2aee-4053-a7fe-5ecc054f107c",
   "metadata": {},
   "outputs": [
    {
     "data": {
      "text/plain": [
       "(144, 74)"
      ]
     },
     "execution_count": 3,
     "metadata": {},
     "output_type": "execute_result"
    }
   ],
   "source": [
    "coded.shape"
   ]
  },
  {
   "cell_type": "code",
   "execution_count": 4,
   "id": "632377d1-f313-4b09-8976-d869efe41846",
   "metadata": {},
   "outputs": [
    {
     "data": {
      "text/plain": [
       "Index(['sub', 'name', 'class', 'exam_date', 'age', 'sex', 'residence', 'edu',\n",
       "       'marriage', 'job', 'religion', 'height_v1', 'height_v2', 'height_v3',\n",
       "       'weight_v1', 'weight_v2', 'weight_v3', 'SBP_v1', 'SBP_v2', 'SBP_v3',\n",
       "       'DBP_v1', 'DBP_v2', 'DBP_v3', 'HR_v1', 'HR_v2', 'HR_v3', 'BT_v1',\n",
       "       'BT_v2', 'BT_v3', 'alcohol', 'alcohol_freq', 'drink_amount',\n",
       "       'drink_7up', 'smoke', 'exercise_hour', 'exercise_intensity', 'walking',\n",
       "       'SSS_v1', 'NEO_v1', 'MDQ_v1', 'MINI_suicidality_v1',\n",
       "       'MINI_suicidality_v2', 'MINI_suicidality_v3', 'MINI_danger_v1',\n",
       "       'MINI_danger_v2', 'MINI_danger_v3', 'HAMD_v1', 'HAMD_v2', 'HAMD_v3',\n",
       "       'HAMA_v1', 'HAMA_v2', 'HAMA_v3', 'CGI-S_v1', 'CGI-S_v3', 'CGI-I_v3',\n",
       "       'WHOQOL-BREF_v1', 'BIS_v1', 'BIS_v2', 'BIS_v3', 'BHS_v1', 'BHS_v2',\n",
       "       'BHS_v3', 'K_MAIA_v1', 'PSQI_K_v1', 'PSQI_K_v2', 'PSQI_K_v3',\n",
       "       'STAI_X2_v1', 'PHQ_9_v1', 'PHQ_9_v2', 'PHQ_9_v3', 'GAD_7_v1',\n",
       "       'STAI_X1_v1', 'RAS_v1', 'RSE_v1'],\n",
       "      dtype='object')"
      ]
     },
     "execution_count": 4,
     "metadata": {},
     "output_type": "execute_result"
    }
   ],
   "source": [
    "coded.columns"
   ]
  },
  {
   "cell_type": "code",
   "execution_count": null,
   "id": "24994a1a-0e1e-4241-a66d-f9dd0cedb228",
   "metadata": {},
   "outputs": [],
   "source": [
    "# columns organized\n",
    "col_label = ['class'] #1=dp,2=si,3=nor\n",
    "col_SSS = ['SSS_v1']\n",
    "col_NEO = ['NEO_v1']\n",
    "col_MINI = ['MINI_suicidality_v1','MINI_suicidality_v2','MINI_suicidality_v3', 'MINI_danger_v1','MINI_danger_v2','MINI_danger_v3']\n",
    "col_HAMD = ['HAMD_v1','HAMD_v2','HAMD_v3']\n",
    "col_HAMA = ['HAMA_v1','HAMA_v2','HAMA_v3']\n",
    "col_PHQ9 =['PHQ_9_v1','PHQ_9_v2','PHQ_9_v3']\n",
    "col_BIS = ['BIS_v1','BIS_v2','BIS_v3']\n",
    "col_BHS = ['BHS_v1','BHS_v2','BHS_v3']\n",
    "col_basic = ['name','age','sex','residence','edu','marriage','job','religion']\n",
    "col_body = ['height_v1','height_v2','height_v3','weight_v1','weight_v2','weight_v3','SBP_v1','SBP_v2','SBP_v3','DBP_v1','DBP_v2','DBP_v3','HR_v1','HR_v3','HR_v3','BT_v1','BT_v2','BT_v3']\n",
    "col_health =['alcohol','alcohol_freq','drink_amount','drink_7up','smoke','exercise_hour','exercise_intensity','walking']"
   ]
  },
  {
   "cell_type": "code",
   "execution_count": null,
   "id": "df2b3911-7017-4365-b26e-c0deb3138ffa",
   "metadata": {},
   "outputs": [],
   "source": [
    "#drop 통해서 필요 없는 변수들 제거 or 필요 변수(label) select\n",
    "coded_drop = coded.drop(['name','disorder','VISIT','HAMD', 'HAMA','PDSS','ASI','APPQ','PSWQ','SPI','PSS','BIS','SSI'], axis=1)\n",
    "coded_drop.head()"
   ]
  },
  {
   "cell_type": "code",
   "execution_count": null,
   "id": "4e140b53-db65-4cbc-b21c-c36660ac3442",
   "metadata": {},
   "outputs": [],
   "source": []
  },
  {
   "cell_type": "code",
   "execution_count": null,
   "id": "29a1debc-65db-4569-b8ee-cac168612072",
   "metadata": {},
   "outputs": [],
   "source": []
  },
  {
   "cell_type": "code",
   "execution_count": null,
   "id": "087cd91c-7eee-43a2-88fe-4db509b66c74",
   "metadata": {},
   "outputs": [],
   "source": []
  },
  {
   "cell_type": "code",
   "execution_count": null,
   "id": "004e47d7-4c2e-4e87-90bd-c497213a797a",
   "metadata": {},
   "outputs": [],
   "source": []
  },
  {
   "cell_type": "code",
   "execution_count": null,
   "id": "387c382a-c529-4ff8-8529-ae95802d3f41",
   "metadata": {},
   "outputs": [],
   "source": []
  },
  {
   "cell_type": "code",
   "execution_count": null,
   "id": "2a9103d9-4037-4501-b1db-929002a91e07",
   "metadata": {},
   "outputs": [],
   "source": []
  },
  {
   "cell_type": "code",
   "execution_count": null,
   "id": "27137486-cc01-4bdc-b7ee-959008855076",
   "metadata": {},
   "outputs": [],
   "source": []
  },
  {
   "cell_type": "code",
   "execution_count": null,
   "id": "9db752dc-b964-4996-a168-bef88edbd4d7",
   "metadata": {},
   "outputs": [],
   "source": []
  },
  {
   "cell_type": "code",
   "execution_count": null,
   "id": "be838d76-dea9-48f2-b41f-ab0de4ee9ab4",
   "metadata": {},
   "outputs": [],
   "source": []
  },
  {
   "cell_type": "code",
   "execution_count": null,
   "id": "18fcf35a-e72c-4020-9eff-45b22ca66ba0",
   "metadata": {},
   "outputs": [],
   "source": []
  },
  {
   "cell_type": "code",
   "execution_count": null,
   "id": "da7f3d82-5156-452b-ac95-cfde5b4cb784",
   "metadata": {},
   "outputs": [],
   "source": []
  }
 ],
 "metadata": {
  "kernelspec": {
   "display_name": "Python 3",
   "language": "python",
   "name": "python3"
  },
  "language_info": {
   "codemirror_mode": {
    "name": "ipython",
    "version": 3
   },
   "file_extension": ".py",
   "mimetype": "text/x-python",
   "name": "python",
   "nbconvert_exporter": "python",
   "pygments_lexer": "ipython3",
   "version": "3.8.10"
  }
 },
 "nbformat": 4,
 "nbformat_minor": 5
}
