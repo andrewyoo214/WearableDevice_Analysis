{
 "cells": [
  {
   "cell_type": "markdown",
   "id": "bebf1c2e-49c4-4ce7-8118-40b4c8060ac3",
   "metadata": {},
   "source": [
    "# Wearable Device data preprocessing"
   ]
  },
  {
   "cell_type": "markdown",
   "id": "b62f2830-cfad-4808-bd38-1449db77ce25",
   "metadata": {},
   "source": [
    "## Explanations on Device and Data Variables"
   ]
  },
  {
   "cell_type": "markdown",
   "id": "7f5ece16-789c-46d7-b55e-0346f5f706bc",
   "metadata": {
    "tags": []
   },
   "source": [
    "* Wearable Device = Samsung Galaxy Watch 4 Classic \n",
    "* ~.device_profile = Device information and ID.\n",
    "* ~.ecg = Electrocardiogram value. It only contains mean heart rate value.\n",
    "* ~.floors_climbed = Number of floors you've climbed. (Inaccurate)\n",
    "* ~.food_info = Information of the food you take. (Inaccurate)\n",
    "* ~.food_intake = Food intake information including variables like calories. (Inaccurate)\n",
    "* ~.height =  User's height. User should put the information in samsung health application.\n",
    "* ~.nutrition = Food intake nutrition information. (Inaccurate)\n",
    "* ~.sleep_stage = Sleep stages including REM sleep. Automatically calculates when user sleep with their watch on. \n",
    "* ~.user_profile = User profiles like birth, nationality, etc. User should put the information.\n",
    "* ~.water_intake = Glass of water intake. User should put the information everytime.\n",
    "* ~.weight = User's weight. User should put the information.\n",
    "* ~.activity.day_summary = Summary of user's activity information. Contains step count, active time, distance, run time, and walk time.\n",
    "* ~.activity.goal = Not sure.\n",
    "* ~.activity.level = Not sure.\n",
    "* ~.alered_heart_rate = Not sure. Maybe alerted history, when user's heart rate is unusually high or low.\n",
    "* ~.best_records = Not sure.\n",
    "* ~.breathing = Breathing training history.\n",
    "* ~.calories_burned.details = Not sure.\n",
    "* ~.exercise = User's exercise information. Contains exercise distance, calories, etc.\n",
    "* ~.exercise.weather = Not sure.\n",
    "* ~.food_frequent = Not sure.\n",
    "* ~.goal_history = Not sure.\n",
    "* ~.insight.milestones = Not sure.\n",
    "* ~.permission = Not sure.\n",
    "* ~.preferences = Not sure.\n",
    "* ~.program.sleep_coaching_mission = Counting sleep coaching program. \n",
    "* ~.program.sleep_coaching.session = Not sure.\n",
    "* ~.report = Not sure.\n",
    "* ~.rewards = Not sure.\n",
    "* ~.sleep = Data collected during sleep. \n",
    "* ~.sleep_combined = Data collected during sleep. (Inaccurate)\n",
    "* ~.sleep_goal = Not sure.\n",
    "* ~.sleep_snoring = Not sure. Maybe information about snoring during sleep. Stored in samsung health application.\n",
    "* ~.social.public_challenge.extra = Not sure.\n",
    "* ~.social.service_status = Not sure.\n",
    "* ~.stand_day_summary = Not sure.\n",
    "* ~.step_dailty_trend = Not sure.\n",
    "* ~.stress = Daily stress tracking value. \n",
    "* ~.stress.histogram = Not sure.\n",
    "* ~.tracker.heart_rate = Daily heart rate tracking value. Contains the stress score between 1 and 100.\n",
    "* ~.tracker.oxygen_saturation = Oxygen saturation value. Measured only when user activates.\n",
    "* ~.tracker.pedometer_day_summary = Daily step counts, based on pedometer. But data must be organized by date.\n",
    "* ~.tracker.pedometer_recommendation = Not sure.\n",
    "* ~.tracker.pedometer_step_count = Daily step counts, based on pedometer. But data must be organized by date. \n",
    "* /files/ecg = pdf file format of ecg measures. Shows the 30seconds ecg results."
   ]
  },
  {
   "cell_type": "markdown",
   "id": "96f6f4b6-7c14-4960-9ea0-03fb17594152",
   "metadata": {},
   "source": [
    "## Data file list that we need for Analysis"
   ]
  },
  {
   "cell_type": "markdown",
   "id": "512454b4-4fcd-42c2-b086-0d7a69ec9d01",
   "metadata": {},
   "source": [
    "* ecg (both numerical csv file and pdf file) -- \n",
    "* activity_day_summary \n",
    "* exercise (maybe. for tracking what kind of exercise user did and for how long)\n",
    "* sleep \n",
    "* stress\n",
    "* stress.histogram (maybe. check json file)\n",
    "* heart_rate\n",
    "* oxygen saturation (maybe. have to search for more references)\n",
    "* pedometer_day_summary (have to check the columns)\n",
    "* tracker_pedometer_step_count"
   ]
  },
  {
   "cell_type": "markdown",
   "id": "97a97f05-7e15-4d4f-9438-2be59f82ee96",
   "metadata": {},
   "source": [
    "## Extracting data that we need"
   ]
  },
  {
   "cell_type": "code",
   "execution_count": null,
   "id": "68e8a739-185a-45ef-bc8b-ddcf6294d493",
   "metadata": {},
   "outputs": [],
   "source": [
    "import json\n",
    "import os\n",
    "import os.path\n",
    "import sqlite3\n",
    "import numpy as np\n",
    "import pandas as pd"
   ]
  },
  {
   "cell_type": "code",
   "execution_count": null,
   "id": "c3931abe-a156-49f3-b5db-c87461ec4a72",
   "metadata": {},
   "outputs": [],
   "source": [
    "from functools import reduce\n",
    "from glob import glob"
   ]
  },
  {
   "cell_type": "code",
   "execution_count": null,
   "id": "2c4a2a1e-6876-4977-8add-8d88b8ba0ed2",
   "metadata": {},
   "outputs": [],
   "source": [
    "# First setting the basic paths for data files\n",
    "global csv_paths\n",
    "wearable_path = 'E:/RESEARCH/wearable/' #adjust wearable data path"
   ]
  },
  {
   "cell_type": "code",
   "execution_count": null,
   "id": "25f76d62-cd7d-42c8-8172-b4c247f9b754",
   "metadata": {},
   "outputs": [],
   "source": [
    "# Exercise type code - 'exercise_type' column\n",
    "exercise_type = {\n",
    "    1001: 'walking',\n",
    "    1002: 'running',\n",
    "    14001: 'Swimming',\n",
    "    0: 'other'\n",
    "}"
   ]
  },
  {
   "cell_type": "code",
   "execution_count": null,
   "id": "5e0fa8df-e304-487d-80a1-27a751e0fa4f",
   "metadata": {},
   "outputs": [],
   "source": [
    "# Defini tion for converting the data collected time.\n",
    "def conv_date(x, col_name=''):\n",
    "    try:\n",
    "        if any('day_time' in col for col in x.columns):\n",
    "            col_name = 'day_time'\n",
    "            x['day_time'] = pd.to_datetime(\n",
    "                x[[col for col in x.columns if col_name in col][0]], unit='ms')\n",
    "        if any('start_time' in col for col in x.columns):\n",
    "            col_name = 'start_time'\n",
    "            x['day_time'] = pd.to_datetime(\n",
    "                x[[col for col in x.columns if col_name in col][0]])\n",
    "        x['day_time'] = pd.to_datetime(x['day_time'])\n",
    "        \n",
    "    except RuntimeError as e:\n",
    "        print(e)\n",
    "        print(\"Can't find one of these columns\")\n",
    "        print(\"Column names\", x.columns)"
   ]
  },
  {
   "cell_type": "code",
   "execution_count": null,
   "id": "4350940a-ba40-4087-a5d4-ef65e5978029",
   "metadata": {},
   "outputs": [],
   "source": [
    "# Galaxy watch data contains json files. Definition for calling json files.\n",
    "def get_json_file(s):\n",
    "    join = os.path.join('**', s + '*.json')\n",
    "    json_paths = glob(join, recursive=True)\n",
    "    json_file = open(json_paths[0])\n",
    "    return json.load(json_file)"
   ]
  },
  {
   "cell_type": "code",
   "execution_count": null,
   "id": "837f20ea-8adc-4477-8081-e46266346c2e",
   "metadata": {},
   "outputs": [],
   "source": [
    "# mergeing data frame csv files that we need for the analysis\n",
    "def df_meged():\n",
    "    global csv_paths\n",
    "    \n",
    "    selected_csv = [\n",
    "        'com.samsung.shealth.activity.day_summary'\n",
    "    ]"
   ]
  },
  {
   "cell_type": "code",
   "execution_count": null,
   "id": "818df7ec-0262-48cc-a804-30dd4fa4aa52",
   "metadata": {},
   "outputs": [],
   "source": [
    "# extracting heart rate data (most important)\n",
    "def heart_rate_data():\n",
    "    \"\"\"\n",
    "    heart_rate_data reads json format heart rate data from wearable device,\n",
    "    then return the extracted results as hr_df.\n",
    "    \n",
    "    dataframe contains heart rate, maximum heart rate, minimum heart rate, and measured time variables.\n",
    "    \"\"\"\n",
    "    hr_path = os.path.join(wearable_path, '**', 'com.samsung.shealth.tracker.heart_rate','**','*.json')\n",
    "    hr_files_path = glob(hr_path, recursive=True)\n",
    "    hr_df = pd.DataFrame(columns=['heart_rate', 'heart_rate_max', 'heart_rate_min', 'start_time', 'end_time'])\n",
    "    hr_df = hr_df.fillna(0) #filling NA/NAN values\n",
    "    \n",
    "    for f in hr_file_paths:\n",
    "        try:\n",
    "            with open(f) as file:\n",
    "                json_hr = json.load(file)\n",
    "                part_df = pd.DataFrame(json_hr)\n",
    "                hr_df = pd.concat([hr_df, part_df])\n",
    "\n",
    "        except ValueError as e:\n",
    "            print(e)\n",
    "    \n",
    "    hr_df['day_time'] = pd.to_datetime(hr_df['start_time'], unit='ms')\n",
    "    return hr_df"
   ]
  },
  {
   "cell_type": "code",
   "execution_count": null,
   "id": "4cfb8e3a-41f6-4626-aa67-6b773c8dc9e7",
   "metadata": {},
   "outputs": [],
   "source": [
    "# Extracting heart rate data by hourly time period\n",
    "def hourly_heart_rate():\n",
    "    hr_df = heart_rate_data()\n",
    "    times = pd.DatetimeIndex(hr_df.day_time)\n",
    "    hr_df = hr_df.groupby([times.hour, times.date]).agg('mean')\n",
    "    hr_df.reset_index(inplace=True)\n",
    "    hr_df['day_time'] = pd.to_datetime(\n",
    "        pd.to_datetime(hr_df['level_1']).dt.strftime('%Y-%m-%d') + ' ' + hr_df['day_time'].astype(str) + ':00')\n",
    "\n",
    "    return hr_df"
   ]
  },
  {
   "cell_type": "code",
   "execution_count": null,
   "id": "ff44ff01-e28e-4c17-b270-784a16ed2d03",
   "metadata": {},
   "outputs": [],
   "source": []
  },
  {
   "cell_type": "code",
   "execution_count": null,
   "id": "147954db-2252-4993-b7bd-804f8007bb79",
   "metadata": {},
   "outputs": [],
   "source": []
  },
  {
   "cell_type": "code",
   "execution_count": null,
   "id": "4a20e40f-1d16-4390-9eb2-f7e4686b4bd0",
   "metadata": {},
   "outputs": [],
   "source": []
  },
  {
   "cell_type": "markdown",
   "id": "324da528-71dd-42ae-ad68-5f4006b6c9ab",
   "metadata": {},
   "source": [
    "## Extracting Final Data"
   ]
  },
  {
   "cell_type": "code",
   "execution_count": null,
   "id": "0ec445a5-2b0e-4a21-887f-7f560d25e4c8",
   "metadata": {},
   "outputs": [],
   "source": [
    "def data_extraction():\n",
    "    global csv_paths\n",
    "    base_dir = os.path.join(wearable_path)\n",
    "    \n",
    "    dump_dirs = glob(os.path.join(base_dir, '*'))\n",
    "    dump_dir = os.path.basename(dump_dirs[0])\n",
    "    print(len(dump_dirs), 'dumps found, taking first:', dump_dir)\n",
    "\n",
    "    csv_paths = glob(os.path.join(base_dir, dump_dir, '*.csv'))\n",
    "    print(len(csv_paths), 'csvs found')\n",
    "    \n",
    "    hr_data = hr_raw().sort_values(by='day_time', ascending=True)\n",
    "    exercise_data = get_exercise_data()\n",
    "    \n",
    "    df_data_list = [hr_data]\n",
    "    df_name_list = ['hr_data']\n",
    "\n",
    "    for i, d in enumerate(df_data_list):\n",
    "        try:\n",
    "            d.to_csv('./' + str(df_name_list[i]) + '.csv')\n",
    "        except Exception as e:\n",
    "            print(e)\n",
    "            \n",
    "if __name__ == \"__main__\":\n",
    "    data_extraction()"
   ]
  },
  {
   "cell_type": "code",
   "execution_count": null,
   "id": "a7695bcb-6b72-42c1-a38e-9e28b668c05d",
   "metadata": {},
   "outputs": [],
   "source": []
  },
  {
   "cell_type": "code",
   "execution_count": null,
   "id": "825107d9-50e2-4b10-9b58-0ea59e248424",
   "metadata": {},
   "outputs": [],
   "source": []
  },
  {
   "cell_type": "code",
   "execution_count": null,
   "id": "ad2aaf24-f64f-4328-9591-4217db418516",
   "metadata": {},
   "outputs": [],
   "source": []
  },
  {
   "cell_type": "code",
   "execution_count": null,
   "id": "004e47d7-4c2e-4e87-90bd-c497213a797a",
   "metadata": {},
   "outputs": [],
   "source": []
  },
  {
   "cell_type": "code",
   "execution_count": null,
   "id": "387c382a-c529-4ff8-8529-ae95802d3f41",
   "metadata": {},
   "outputs": [],
   "source": []
  },
  {
   "cell_type": "code",
   "execution_count": null,
   "id": "2a9103d9-4037-4501-b1db-929002a91e07",
   "metadata": {},
   "outputs": [],
   "source": []
  },
  {
   "cell_type": "code",
   "execution_count": null,
   "id": "27137486-cc01-4bdc-b7ee-959008855076",
   "metadata": {},
   "outputs": [],
   "source": []
  },
  {
   "cell_type": "code",
   "execution_count": null,
   "id": "9db752dc-b964-4996-a168-bef88edbd4d7",
   "metadata": {},
   "outputs": [],
   "source": []
  },
  {
   "cell_type": "code",
   "execution_count": null,
   "id": "be838d76-dea9-48f2-b41f-ab0de4ee9ab4",
   "metadata": {},
   "outputs": [],
   "source": []
  },
  {
   "cell_type": "code",
   "execution_count": null,
   "id": "18fcf35a-e72c-4020-9eff-45b22ca66ba0",
   "metadata": {},
   "outputs": [],
   "source": []
  },
  {
   "cell_type": "code",
   "execution_count": null,
   "id": "da7f3d82-5156-452b-ac95-cfde5b4cb784",
   "metadata": {},
   "outputs": [],
   "source": []
  }
 ],
 "metadata": {
  "kernelspec": {
   "display_name": "Python 3",
   "language": "python",
   "name": "python3"
  },
  "language_info": {
   "codemirror_mode": {
    "name": "ipython",
    "version": 3
   },
   "file_extension": ".py",
   "mimetype": "text/x-python",
   "name": "python",
   "nbconvert_exporter": "python",
   "pygments_lexer": "ipython3",
   "version": "3.8.10"
  }
 },
 "nbformat": 4,
 "nbformat_minor": 5
}
