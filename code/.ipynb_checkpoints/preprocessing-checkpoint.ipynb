{
 "cells": [
  {
   "cell_type": "markdown",
   "id": "bebf1c2e-49c4-4ce7-8118-40b4c8060ac3",
   "metadata": {},
   "source": [
    "# Wearable Device data preprocessing"
   ]
  },
  {
   "cell_type": "markdown",
   "id": "7f5ece16-789c-46d7-b55e-0346f5f706bc",
   "metadata": {},
   "source": [
    "### Explanations on Device and Data Variables\n",
    "\n",
    "* Wearable Device = Samsung Galaxy Watch 4 Classic \n",
    "* ~.device_profile = Device information and ID.\n",
    "* ~.ecg = Electrocardiogram value. It only contains mean heart rate value.\n",
    "* ~.floors_climbed = Number of floors you've climbed. (Inaccurate)\n",
    "* ~.food_info = Information of the food you take. (Inaccurate)\n",
    "* ~.food_intake = Food intake information including variables like calories. (Inaccurate)\n",
    "* ~.height =  User's height. User should put the information in samsung health application.\n",
    "* ~.nutrition = Food intake nutrition information. (Inaccurate)\n",
    "* ~.sleep_stage = Sleep stages including REM sleep. Automatically calculates when user sleep with their watch on. \n",
    "* ~.user_profile = User profiles like birth, nationality, etc. User should put the information.\n",
    "* ~.water_intake = Glass of water intake. User should put the information everytime.\n",
    "* ~.weight = User's weight. User should put the information.\n",
    "* ~.activity.day_summary = Summary of user's activity information. Contains step count, active time, distance, run time, and walk time.\n",
    "* ~.activity.goal = Not sure.\n",
    "* ~.activity.level = Not sure.\n",
    "* ~.alered_heart_rate = Not sure. Maybe alerted history, when user's heart rate is unusually high or low.\n",
    "* ~.best_records = Not sure.\n",
    "* ~.breathing = Breathing training history.\n",
    "* ~.calories_burned.details = Not sure.\n",
    "* ~.exercise = User's exercise information. Contains exercise distance, calories, etc.\n",
    "* ~.exercise.weather = Not sure.\n",
    "* ~.food_frequent = Not sure.\n",
    "* ~.goal_history = Not sure.\n",
    "* ~.insight.milestones = Not sure.\n",
    "* ~.permission = Not sure.\n",
    "* ~.preferences = Not sure.\n",
    "* ~.program.sleep_coaching_mission = Counting sleep coaching program. \n",
    "* ~.program.sleep_coaching.session = Not sure.\n",
    "* ~.report = Not sure.\n",
    "* ~.rewards = Not sure.\n",
    "* ~.sleep = \n",
    "* ~.sleep_combined = \n",
    "* ~.sleep_goal = \n",
    "* ~.sleep_snoring = \n",
    "* ~.social.public_challenge.extra = \n",
    "* ~.stand_day_summary = \n",
    "* ~.step_dailty_trend = \n",
    "* ~.stress = \n",
    "* ~.stress.histogram = \n",
    "* ~.tracker.heart_rate = \n",
    "* ~.tracker.oxygen_saturation = \n",
    "* ~.tracker.pedometer_day_summary = \n",
    "* ~.tracker.pedometer_recommendation = \n",
    "* ~.tracker.pedometer_step_count = \n",
    "* /files/ecg = pdf file format of ecg measures. Shows the 30seconds ecg results."
   ]
  },
  {
   "cell_type": "code",
   "execution_count": null,
   "id": "d36d5149-896b-4252-bf4a-2ca5add15fa9",
   "metadata": {},
   "outputs": [],
   "source": []
  },
  {
   "cell_type": "code",
   "execution_count": null,
   "id": "db7a9ab6-2609-40d0-8aed-23ddb0f00138",
   "metadata": {},
   "outputs": [],
   "source": []
  },
  {
   "cell_type": "code",
   "execution_count": null,
   "id": "68e8a739-185a-45ef-bc8b-ddcf6294d493",
   "metadata": {},
   "outputs": [],
   "source": []
  },
  {
   "cell_type": "code",
   "execution_count": null,
   "id": "2c4a2a1e-6876-4977-8add-8d88b8ba0ed2",
   "metadata": {},
   "outputs": [],
   "source": []
  },
  {
   "cell_type": "code",
   "execution_count": null,
   "id": "25f76d62-cd7d-42c8-8172-b4c247f9b754",
   "metadata": {},
   "outputs": [],
   "source": []
  },
  {
   "cell_type": "code",
   "execution_count": null,
   "id": "5e0fa8df-e304-487d-80a1-27a751e0fa4f",
   "metadata": {},
   "outputs": [],
   "source": []
  },
  {
   "cell_type": "code",
   "execution_count": null,
   "id": "4350940a-ba40-4087-a5d4-ef65e5978029",
   "metadata": {},
   "outputs": [],
   "source": []
  },
  {
   "cell_type": "code",
   "execution_count": null,
   "id": "837f20ea-8adc-4477-8081-e46266346c2e",
   "metadata": {},
   "outputs": [],
   "source": []
  },
  {
   "cell_type": "code",
   "execution_count": null,
   "id": "818df7ec-0262-48cc-a804-30dd4fa4aa52",
   "metadata": {},
   "outputs": [],
   "source": []
  },
  {
   "cell_type": "code",
   "execution_count": null,
   "id": "4cfb8e3a-41f6-4626-aa67-6b773c8dc9e7",
   "metadata": {},
   "outputs": [],
   "source": []
  },
  {
   "cell_type": "code",
   "execution_count": null,
   "id": "ff44ff01-e28e-4c17-b270-784a16ed2d03",
   "metadata": {},
   "outputs": [],
   "source": []
  },
  {
   "cell_type": "code",
   "execution_count": null,
   "id": "acdcbf43-7631-4675-8f94-8e7b182a6f2d",
   "metadata": {},
   "outputs": [],
   "source": []
  },
  {
   "cell_type": "code",
   "execution_count": null,
   "id": "147954db-2252-4993-b7bd-804f8007bb79",
   "metadata": {},
   "outputs": [],
   "source": []
  },
  {
   "cell_type": "code",
   "execution_count": null,
   "id": "27137486-cc01-4bdc-b7ee-959008855076",
   "metadata": {},
   "outputs": [],
   "source": []
  },
  {
   "cell_type": "code",
   "execution_count": null,
   "id": "9db752dc-b964-4996-a168-bef88edbd4d7",
   "metadata": {},
   "outputs": [],
   "source": []
  },
  {
   "cell_type": "code",
   "execution_count": null,
   "id": "be838d76-dea9-48f2-b41f-ab0de4ee9ab4",
   "metadata": {},
   "outputs": [],
   "source": []
  },
  {
   "cell_type": "code",
   "execution_count": null,
   "id": "18fcf35a-e72c-4020-9eff-45b22ca66ba0",
   "metadata": {},
   "outputs": [],
   "source": []
  },
  {
   "cell_type": "code",
   "execution_count": null,
   "id": "da7f3d82-5156-452b-ac95-cfde5b4cb784",
   "metadata": {},
   "outputs": [],
   "source": []
  }
 ],
 "metadata": {
  "kernelspec": {
   "display_name": "Python 3",
   "language": "python",
   "name": "python3"
  },
  "language_info": {
   "codemirror_mode": {
    "name": "ipython",
    "version": 3
   },
   "file_extension": ".py",
   "mimetype": "text/x-python",
   "name": "python",
   "nbconvert_exporter": "python",
   "pygments_lexer": "ipython3",
   "version": "3.8.10"
  }
 },
 "nbformat": 4,
 "nbformat_minor": 5
}
