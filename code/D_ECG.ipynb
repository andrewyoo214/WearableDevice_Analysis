{
 "cells": [
  {
   "cell_type": "markdown",
   "id": "2603a7c5-12ee-4aec-be15-234b8f7f558a",
   "metadata": {},
   "source": [
    "# Diagnosis based on ECG data"
   ]
  },
  {
   "cell_type": "markdown",
   "id": "47c9bd26-b72e-474e-a942-14d6b1ed5123",
   "metadata": {},
   "source": [
    "- - - "
   ]
  },
  {
   "cell_type": "markdown",
   "id": "d8dd0dec-dfe7-42b9-ad33-b4a46524aaef",
   "metadata": {},
   "source": [
    "* Diagnosis using collected ECG data\n",
    "* Currently total 42 subjects\n",
    "* 3 classes (DEP, SUI, NOR)"
   ]
  },
  {
   "cell_type": "markdown",
   "id": "ca25eea5-7d1f-401a-8134-ec7fbff1f678",
   "metadata": {},
   "source": [
    "- - -"
   ]
  },
  {
   "cell_type": "code",
   "execution_count": 1,
   "id": "a812ed44-f853-4ce4-8ce2-27146f72459c",
   "metadata": {},
   "outputs": [],
   "source": [
    "# importing required components \n",
    "import os\n",
    "import time\n",
    "import json\n",
    "import urllib\n",
    "import random\n",
    "import numpy as np\n",
    "import pandas as pd\n",
    "import matplotlib.pyplot as plt"
   ]
  },
  {
   "cell_type": "code",
   "execution_count": 40,
   "id": "6dc3c86b-4a67-4726-9061-ab9fbc3d6636",
   "metadata": {},
   "outputs": [],
   "source": [
    "from pdf2image import convert_from_path"
   ]
  },
  {
   "cell_type": "code",
   "execution_count": null,
   "id": "f9f4ff95-374a-40cb-a65a-cf8cc591bb88",
   "metadata": {},
   "outputs": [],
   "source": []
  },
  {
   "cell_type": "code",
   "execution_count": null,
   "id": "d3c9b688-f5bd-48dc-a605-f75e418ef0d2",
   "metadata": {},
   "outputs": [],
   "source": []
  },
  {
   "cell_type": "markdown",
   "id": "40df9de8-0768-4084-b76d-e2a81676c9e1",
   "metadata": {},
   "source": [
    "## Basic data check"
   ]
  },
  {
   "cell_type": "code",
   "execution_count": 7,
   "id": "25788be7-1aa1-4f8f-9d72-db7caf375b17",
   "metadata": {},
   "outputs": [],
   "source": [
    "ecg_df = pd.read_csv('E:/RESEARCH/Datasets/wearable/AI_coded_1.csv', sep=',')"
   ]
  },
  {
   "cell_type": "markdown",
   "id": "d6c563b2-1a0e-4890-8d18-b4afa99c19d6",
   "metadata": {},
   "source": [
    "* 1: depression, 2: suicidality, 3: normal"
   ]
  },
  {
   "cell_type": "code",
   "execution_count": 8,
   "id": "8dce0f46-956b-4c1e-9a4f-a9b7f0468f7b",
   "metadata": {},
   "outputs": [],
   "source": [
    "ecg_df['class'] = ecg_df['class'].astype(\"category\")\n",
    "ecg_df['sub'] = ecg_df['sub'].astype(\"category\")"
   ]
  },
  {
   "cell_type": "code",
   "execution_count": 31,
   "id": "3e3417ed-fc23-4f4c-8218-2bb952701d72",
   "metadata": {},
   "outputs": [
    {
     "name": "stdout",
     "output_type": "stream",
     "text": [
      "Int64Index([16, 34, 36, 40], dtype='int64')\n"
     ]
    }
   ],
   "source": [
    "depression = ecg_df[ecg_df['class']==1]\n",
    "print((depression.index)+1)"
   ]
  },
  {
   "cell_type": "code",
   "execution_count": 32,
   "id": "5c66cdb7-bc36-424c-a4fe-97e94228dfbf",
   "metadata": {},
   "outputs": [
    {
     "name": "stdout",
     "output_type": "stream",
     "text": [
      "Int64Index([14, 19, 35, 39], dtype='int64')\n"
     ]
    }
   ],
   "source": [
    "suicidal = ecg_df[ecg_df['class']==2]\n",
    "print((suicidal.index)+1)"
   ]
  },
  {
   "cell_type": "code",
   "execution_count": 33,
   "id": "a8f283e0-3bf8-438e-b918-fd7e6466de59",
   "metadata": {},
   "outputs": [
    {
     "name": "stdout",
     "output_type": "stream",
     "text": [
      "Int64Index([ 1,  2,  3,  4,  5,  6,  7,  8,  9, 10, 11, 12, 13, 15, 17, 18, 20,\n",
      "            21, 22, 23, 24, 25, 26, 27, 28, 29, 30, 31, 32, 33, 37, 38, 41,\n",
      "            42],\n",
      "           dtype='int64')\n"
     ]
    }
   ],
   "source": [
    "normal = ecg_df[ecg_df['class']==3]\n",
    "print((normal.index)+1)"
   ]
  },
  {
   "cell_type": "code",
   "execution_count": null,
   "id": "c09cd5e2-caf8-456f-9f20-c260fb0955bf",
   "metadata": {},
   "outputs": [],
   "source": []
  },
  {
   "cell_type": "code",
   "execution_count": null,
   "id": "08c770d8-588e-46ad-99e5-1347cb72334d",
   "metadata": {},
   "outputs": [],
   "source": []
  },
  {
   "cell_type": "markdown",
   "id": "14e8b400-f279-4f82-b8f1-c7769ad6760f",
   "metadata": {},
   "source": [
    "* Changing file names in directory"
   ]
  },
  {
   "cell_type": "code",
   "execution_count": 38,
   "id": "6a532aec-63f2-4f00-955d-a752c95171e4",
   "metadata": {},
   "outputs": [],
   "source": [
    "file_path = \"E:/RESEARCH/Datasets/wearable/ECG/test_0420/nor\"\n",
    "file_names = os.listdir(file_path)"
   ]
  },
  {
   "cell_type": "code",
   "execution_count": 39,
   "id": "6f7300a5-dfa7-4809-bace-3cda6a9a6038",
   "metadata": {},
   "outputs": [],
   "source": [
    "i = 1\n",
    "for name in file_names:\n",
    "    src = os.path.join(file_path, name)\n",
    "    dst = str(i) + '.pdf'\n",
    "    dst = os.path.join(file_path, dst)\n",
    "    os.rename(src, dst)\n",
    "    i += 1"
   ]
  },
  {
   "cell_type": "code",
   "execution_count": null,
   "id": "dc3f00de-ea7d-40bf-a062-463d17f9c496",
   "metadata": {},
   "outputs": [],
   "source": []
  },
  {
   "cell_type": "code",
   "execution_count": null,
   "id": "182bcc1a-08f0-4a5e-9120-cb90b7f01bcb",
   "metadata": {},
   "outputs": [],
   "source": []
  },
  {
   "cell_type": "code",
   "execution_count": null,
   "id": "2789ee5d-6ef2-4000-b80c-ab383bc1c5e2",
   "metadata": {},
   "outputs": [],
   "source": []
  },
  {
   "cell_type": "code",
   "execution_count": null,
   "id": "e55ae611-4319-44ed-812d-b8623ebd4ac6",
   "metadata": {},
   "outputs": [],
   "source": []
  },
  {
   "cell_type": "code",
   "execution_count": null,
   "id": "f13e586f-2abb-43c3-a7a4-d0f02495938e",
   "metadata": {},
   "outputs": [],
   "source": []
  },
  {
   "cell_type": "code",
   "execution_count": null,
   "id": "84e643de-9055-4e0b-a0df-282de6751898",
   "metadata": {},
   "outputs": [],
   "source": []
  },
  {
   "cell_type": "code",
   "execution_count": null,
   "id": "a057d346-a560-4fee-bb67-e692f8a83123",
   "metadata": {},
   "outputs": [],
   "source": []
  },
  {
   "cell_type": "code",
   "execution_count": null,
   "id": "64520f44-e462-4905-ab07-c3c9d1870245",
   "metadata": {},
   "outputs": [],
   "source": []
  },
  {
   "cell_type": "code",
   "execution_count": null,
   "id": "bf8e74cb-5dae-483e-b7ba-131862e1cd4e",
   "metadata": {},
   "outputs": [],
   "source": []
  },
  {
   "cell_type": "code",
   "execution_count": null,
   "id": "30b9f889-526a-4b06-95e5-365972a4ccd3",
   "metadata": {},
   "outputs": [],
   "source": []
  },
  {
   "cell_type": "code",
   "execution_count": null,
   "id": "b753f461-3468-4dbb-ad3b-6af7edc72ed9",
   "metadata": {},
   "outputs": [],
   "source": []
  },
  {
   "cell_type": "code",
   "execution_count": null,
   "id": "d687c0ba-b09e-414c-bc65-a79e7c38b187",
   "metadata": {},
   "outputs": [],
   "source": []
  },
  {
   "cell_type": "code",
   "execution_count": null,
   "id": "d92456f7-2340-4737-bf9e-cd12668cf593",
   "metadata": {},
   "outputs": [],
   "source": []
  }
 ],
 "metadata": {
  "kernelspec": {
   "display_name": "Python 3",
   "language": "python",
   "name": "python3"
  },
  "language_info": {
   "codemirror_mode": {
    "name": "ipython",
    "version": 3
   },
   "file_extension": ".py",
   "mimetype": "text/x-python",
   "name": "python",
   "nbconvert_exporter": "python",
   "pygments_lexer": "ipython3",
   "version": "3.8.10"
  }
 },
 "nbformat": 4,
 "nbformat_minor": 5
}
